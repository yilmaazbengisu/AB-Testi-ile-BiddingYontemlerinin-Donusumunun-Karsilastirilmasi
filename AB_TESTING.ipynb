{
 "cells": [
  {
   "cell_type": "markdown",
   "metadata": {},
   "source": [
    "İŞ PROBLEMİ\n",
    "\n",
    "Facebook, kısa bir süre önce mevcut olan \"maximumbidding\" olarak adlandırılan teklif verme türüne alternatif olarak yeni bir teklif türü olan \"averagebidding\"i tanıttı. Müşterilerimizden biri olan bombabomba.com, bu yeni özelliği test etmeye karar verdi ve averagebidding'in maximumbidding'den daha fazla dönüşüm getirip getirmediğini anlamak için bir A/B testi yapmak istiyor.\n",
    "\n",
    "A/B testi 1 aydır devam ediyor ve bombabomba.com şimdi sizden bu A/B testinin sonuçlarını analiz etmenizi bekliyor. Bombabomba.com için nihai başarı ölçütü \"Purchase\"dır. Bu nedenle, istatistiksel testler için \"Purchase\" metriğine odaklanılmalıdır.\n",
    "\n",
    "Bir firmanın web site bilgilerini içeren bu veri setinde kullanıcıların gördükleri ve tıkladıkları reklam sayıları gibi bilgilerin yanı sıra buradan gelen kazanç bilgileri yer almaktadır.Kontrol ve Test grubu olmak üzere iki ayrı veri seti vardır. Bu veri setleri ab_testing.xlsx excel’inin ayrı sayfalarında yer almaktadır. Kontrol grubuna Maximum Bidding, test grubuna Average Bidding uygulanmıştır\n",
    "\n",
    "Impression : Reklam görüntüleme sayısı\t\n",
    "\n",
    "Click\t: Görüntülenen reklama tıklama sayısı\n",
    "\n",
    "Purchase : Tıklanan reklamlar sonrası satın alınan ürün sayısı\n",
    "\n",
    "Earning :  Satın alınan ürünler sonrası elde edilen kazanç"
   ]
  },
  {
   "cell_type": "code",
   "execution_count": 1,
   "metadata": {},
   "outputs": [],
   "source": [
    "import itertools\n",
    "import numpy as np\n",
    "import pandas as pd\n",
    "import matplotlib.pyplot as plt\n",
    "import seaborn as sns\n",
    "import statsmodels.stats.api as sms\n",
    "from scipy.stats import ttest_1samp, shapiro, levene, ttest_ind, mannwhitneyu, \\\n",
    "    pearsonr, spearmanr, kendalltau, f_oneway, kruskal"
   ]
  },
  {
   "cell_type": "code",
   "execution_count": 40,
   "metadata": {},
   "outputs": [],
   "source": [
    "# Adım 1: ab_testing_data.xlsx adlı kontrol ve test grubu verilerinden oluşan veri setini okutunuz. Kontrol ve test grubu verilerini ayrı değişkenlere atayınız.\n",
    "df_control = pd.read_excel(\"ab_testing.xlsx\", sheet_name=\"Control Group\")\n",
    "df_test = pd.read_excel(\"ab_testing.xlsx\", sheet_name=\"Test Group\")\n"
   ]
  },
  {
   "cell_type": "code",
   "execution_count": 18,
   "metadata": {},
   "outputs": [
    {
     "data": {
      "text/html": [
       "<div>\n",
       "<style scoped>\n",
       "    .dataframe tbody tr th:only-of-type {\n",
       "        vertical-align: middle;\n",
       "    }\n",
       "\n",
       "    .dataframe tbody tr th {\n",
       "        vertical-align: top;\n",
       "    }\n",
       "\n",
       "    .dataframe thead th {\n",
       "        text-align: right;\n",
       "    }\n",
       "</style>\n",
       "<table border=\"1\" class=\"dataframe\">\n",
       "  <thead>\n",
       "    <tr style=\"text-align: right;\">\n",
       "      <th></th>\n",
       "      <th>Impression</th>\n",
       "      <th>Click</th>\n",
       "      <th>Purchase</th>\n",
       "      <th>Earning</th>\n",
       "    </tr>\n",
       "  </thead>\n",
       "  <tbody>\n",
       "    <tr>\n",
       "      <th>0</th>\n",
       "      <td>82529.459271</td>\n",
       "      <td>6090.077317</td>\n",
       "      <td>665.211255</td>\n",
       "      <td>2311.277143</td>\n",
       "    </tr>\n",
       "    <tr>\n",
       "      <th>1</th>\n",
       "      <td>98050.451926</td>\n",
       "      <td>3382.861786</td>\n",
       "      <td>315.084895</td>\n",
       "      <td>1742.806855</td>\n",
       "    </tr>\n",
       "    <tr>\n",
       "      <th>2</th>\n",
       "      <td>82696.023549</td>\n",
       "      <td>4167.965750</td>\n",
       "      <td>458.083738</td>\n",
       "      <td>1797.827447</td>\n",
       "    </tr>\n",
       "    <tr>\n",
       "      <th>3</th>\n",
       "      <td>109914.400398</td>\n",
       "      <td>4910.882240</td>\n",
       "      <td>487.090773</td>\n",
       "      <td>1696.229178</td>\n",
       "    </tr>\n",
       "    <tr>\n",
       "      <th>4</th>\n",
       "      <td>108457.762630</td>\n",
       "      <td>5987.655811</td>\n",
       "      <td>441.034050</td>\n",
       "      <td>1543.720179</td>\n",
       "    </tr>\n",
       "  </tbody>\n",
       "</table>\n",
       "</div>"
      ],
      "text/plain": [
       "      Impression        Click    Purchase      Earning\n",
       "0   82529.459271  6090.077317  665.211255  2311.277143\n",
       "1   98050.451926  3382.861786  315.084895  1742.806855\n",
       "2   82696.023549  4167.965750  458.083738  1797.827447\n",
       "3  109914.400398  4910.882240  487.090773  1696.229178\n",
       "4  108457.762630  5987.655811  441.034050  1543.720179"
      ]
     },
     "execution_count": 18,
     "metadata": {},
     "output_type": "execute_result"
    }
   ],
   "source": [
    "df_control.head()"
   ]
  },
  {
   "cell_type": "code",
   "execution_count": 19,
   "metadata": {},
   "outputs": [
    {
     "data": {
      "text/html": [
       "<div>\n",
       "<style scoped>\n",
       "    .dataframe tbody tr th:only-of-type {\n",
       "        vertical-align: middle;\n",
       "    }\n",
       "\n",
       "    .dataframe tbody tr th {\n",
       "        vertical-align: top;\n",
       "    }\n",
       "\n",
       "    .dataframe thead th {\n",
       "        text-align: right;\n",
       "    }\n",
       "</style>\n",
       "<table border=\"1\" class=\"dataframe\">\n",
       "  <thead>\n",
       "    <tr style=\"text-align: right;\">\n",
       "      <th></th>\n",
       "      <th>Impression</th>\n",
       "      <th>Click</th>\n",
       "      <th>Purchase</th>\n",
       "      <th>Earning</th>\n",
       "    </tr>\n",
       "  </thead>\n",
       "  <tbody>\n",
       "    <tr>\n",
       "      <th>0</th>\n",
       "      <td>120103.503796</td>\n",
       "      <td>3216.547958</td>\n",
       "      <td>702.160346</td>\n",
       "      <td>1939.611243</td>\n",
       "    </tr>\n",
       "    <tr>\n",
       "      <th>1</th>\n",
       "      <td>134775.943363</td>\n",
       "      <td>3635.082422</td>\n",
       "      <td>834.054286</td>\n",
       "      <td>2929.405820</td>\n",
       "    </tr>\n",
       "    <tr>\n",
       "      <th>2</th>\n",
       "      <td>107806.620788</td>\n",
       "      <td>3057.143560</td>\n",
       "      <td>422.934258</td>\n",
       "      <td>2526.244877</td>\n",
       "    </tr>\n",
       "    <tr>\n",
       "      <th>3</th>\n",
       "      <td>116445.275526</td>\n",
       "      <td>4650.473911</td>\n",
       "      <td>429.033535</td>\n",
       "      <td>2281.428574</td>\n",
       "    </tr>\n",
       "    <tr>\n",
       "      <th>4</th>\n",
       "      <td>145082.516838</td>\n",
       "      <td>5201.387724</td>\n",
       "      <td>749.860442</td>\n",
       "      <td>2781.697521</td>\n",
       "    </tr>\n",
       "  </tbody>\n",
       "</table>\n",
       "</div>"
      ],
      "text/plain": [
       "      Impression        Click    Purchase      Earning\n",
       "0  120103.503796  3216.547958  702.160346  1939.611243\n",
       "1  134775.943363  3635.082422  834.054286  2929.405820\n",
       "2  107806.620788  3057.143560  422.934258  2526.244877\n",
       "3  116445.275526  4650.473911  429.033535  2281.428574\n",
       "4  145082.516838  5201.387724  749.860442  2781.697521"
      ]
     },
     "execution_count": 19,
     "metadata": {},
     "output_type": "execute_result"
    }
   ],
   "source": [
    "df_test.head()"
   ]
  },
  {
   "cell_type": "code",
   "execution_count": 10,
   "metadata": {},
   "outputs": [],
   "source": [
    "# Adım 2: Kontrol ve test grubu verilerini analiz ediniz.\n",
    "def check_df(dataframe, head=5):\n",
    "    print(\"##################### Shape #####################\")\n",
    "    print(dataframe.shape)\n",
    "    print(\"##################### Types #####################\")\n",
    "    print(dataframe.dtypes)\n",
    "    print(\"##################### Head #####################\")\n",
    "    print(dataframe.head(head))\n",
    "    print(\"##################### Tail #####################\")\n",
    "    print(dataframe.tail(head))\n",
    "    print(\"##################### NA #####################\")\n",
    "    print(dataframe.isnull().sum())\n",
    "    print(\"##################### Quantiles #####################\")\n",
    "    print(dataframe.describe([0, 0.05, 0.50, 0.95, 0.99, 1]).T)"
   ]
  },
  {
   "cell_type": "code",
   "execution_count": 20,
   "metadata": {},
   "outputs": [
    {
     "name": "stdout",
     "output_type": "stream",
     "text": [
      "##################### Shape #####################\n",
      "(40, 4)\n",
      "##################### Types #####################\n",
      "Impression    float64\n",
      "Click         float64\n",
      "Purchase      float64\n",
      "Earning       float64\n",
      "dtype: object\n",
      "##################### Head #####################\n",
      "      Impression        Click    Purchase      Earning\n",
      "0  120103.503796  3216.547958  702.160346  1939.611243\n",
      "1  134775.943363  3635.082422  834.054286  2929.405820\n",
      "2  107806.620788  3057.143560  422.934258  2526.244877\n",
      "3  116445.275526  4650.473911  429.033535  2281.428574\n",
      "4  145082.516838  5201.387724  749.860442  2781.697521\n",
      "##################### Tail #####################\n",
      "       Impression        Click    Purchase      Earning\n",
      "35   79234.911929  6002.213585  382.047116  2277.863984\n",
      "36  130702.239410  3626.320072  449.824592  2530.841327\n",
      "37  116481.873365  4702.782468  472.453725  2597.917632\n",
      "38   79033.834921  4495.428177  425.359102  2595.857880\n",
      "39  102257.454089  4800.068321  521.310729  2967.518390\n",
      "##################### NA #####################\n",
      "Impression    0\n",
      "Click         0\n",
      "Purchase      0\n",
      "Earning       0\n",
      "dtype: int64\n",
      "##################### Quantiles #####################\n",
      "            count           mean           std           min            0%  \\\n",
      "Impression   40.0  120512.411758  18807.448712  79033.834921  79033.834921   \n",
      "Click        40.0    3967.549761    923.095073   1836.629861   1836.629861   \n",
      "Purchase     40.0     582.106097    161.152513    311.629515    311.629515   \n",
      "Earning      40.0    2514.890733    282.730852   1939.611243   1939.611243   \n",
      "\n",
      "                      5%            50%            95%            99%  \\\n",
      "Impression  83150.503777  119291.300775  153178.691063  158245.263797   \n",
      "Click        2600.361018    3931.359804    5271.186906    6012.877296   \n",
      "Purchase      356.695400     551.355732     854.208945     876.576104   \n",
      "Earning      2080.976213    2544.666107    2931.311449    3091.940894   \n",
      "\n",
      "                     100%            max  \n",
      "Impression  158605.920483  158605.920483  \n",
      "Click         6019.695079    6019.695079  \n",
      "Purchase       889.910460     889.910460  \n",
      "Earning       3171.489708    3171.489708  \n"
     ]
    }
   ],
   "source": [
    "check_df(df_test)"
   ]
  },
  {
   "cell_type": "code",
   "execution_count": 21,
   "metadata": {},
   "outputs": [
    {
     "name": "stdout",
     "output_type": "stream",
     "text": [
      "##################### Shape #####################\n",
      "(40, 4)\n",
      "##################### Types #####################\n",
      "Impression    float64\n",
      "Click         float64\n",
      "Purchase      float64\n",
      "Earning       float64\n",
      "dtype: object\n",
      "##################### Head #####################\n",
      "      Impression        Click    Purchase      Earning\n",
      "0   82529.459271  6090.077317  665.211255  2311.277143\n",
      "1   98050.451926  3382.861786  315.084895  1742.806855\n",
      "2   82696.023549  4167.965750  458.083738  1797.827447\n",
      "3  109914.400398  4910.882240  487.090773  1696.229178\n",
      "4  108457.762630  5987.655811  441.034050  1543.720179\n",
      "##################### Tail #####################\n",
      "       Impression        Click    Purchase      Earning\n",
      "35  132064.219003  3747.157544  551.072406  2256.975589\n",
      "36   86409.941796  4608.256205  345.046033  1781.357690\n",
      "37  123678.934234  3649.073787  476.168128  2187.721217\n",
      "38  101997.494099  4736.353369  474.613537  2254.563834\n",
      "39  121085.881220  4285.178608  590.406020  1289.308948\n",
      "##################### NA #####################\n",
      "Impression    0\n",
      "Click         0\n",
      "Purchase      0\n",
      "Earning       0\n",
      "dtype: int64\n",
      "##################### Quantiles #####################\n",
      "            count           mean           std           min            0%  \\\n",
      "Impression   40.0  101711.449068  20302.157862  45475.942965  45475.942965   \n",
      "Click        40.0    5100.657373   1329.985498   2189.753157   2189.753157   \n",
      "Purchase     40.0     550.894059    134.108201    267.028943    267.028943   \n",
      "Earning      40.0    1908.568300    302.917783   1253.989525   1253.989525   \n",
      "\n",
      "                      5%           50%            95%            99%  \\\n",
      "Impression  79412.017920  99790.701078  132950.532455  143105.791105   \n",
      "Click        3367.484257   5001.220602    7374.361202    7761.795112   \n",
      "Purchase      328.662425    531.206307     748.270761     790.187785   \n",
      "Earning      1329.577082   1975.160522    2318.528498    2481.308737   \n",
      "\n",
      "                     100%            max  \n",
      "Impression  147539.336329  147539.336329  \n",
      "Click         7959.125069    7959.125069  \n",
      "Purchase       801.795020     801.795020  \n",
      "Earning       2497.295218    2497.295218  \n"
     ]
    }
   ],
   "source": [
    "check_df(df_control)"
   ]
  },
  {
   "cell_type": "markdown",
   "metadata": {},
   "source": [
    "df_control_group ve df_test_group veri setlerindeki odağımız olan purchase değişkinlerini incelediğimizde bu değişkenlerim mean ve median değerleri birbirine yakın görünüyor. Bu da değişkenlerin çarpık olmadığı anlamına gelir."
   ]
  },
  {
   "cell_type": "code",
   "execution_count": 26,
   "metadata": {},
   "outputs": [
    {
     "name": "stdout",
     "output_type": "stream",
     "text": [
      "Kontrol grubu için ortalama satın alma değeri güven aralığı: (508.0041754264924, 593.7839421139709)\n",
      "Test grubu için ortalama satın alma değeri güven aralığı: (530.5670226990062, 633.6451705979289)\n"
     ]
    }
   ],
   "source": [
    "# purchase değişkenleri için confidence interval oluşturalım\n",
    "\n",
    "print(\"Kontrol grubu için ortalama satın alma değeri güven aralığı:\", \\\n",
    "      sms.DescrStatsW(df_control[\"Purchase\"]).tconfint_mean())\n",
    "print(\"Test grubu için ortalama satın alma değeri güven aralığı:\", \\\n",
    "      sms.DescrStatsW(df_test[\"Purchase\"]).tconfint_mean())"
   ]
  },
  {
   "cell_type": "markdown",
   "metadata": {},
   "source": [
    "Buradan şu yorumları yapabiliriz: \n",
    "\n",
    "%95 güvenle yani %5 hata payı ile kontrol grubu ortalama satın alma değeri 508.0041754264924 - 593.7839421139709 bu değerler arasındadır.\n",
    "\n",
    "\n",
    "%95 güvenle yani %5 hata payı ile test grubu ortalama satın alma değeri 530.5670226990062 - 633.6451705979289 bu değerler arasındadır.\n"
   ]
  },
  {
   "cell_type": "code",
   "execution_count": 23,
   "metadata": {},
   "outputs": [],
   "source": [
    "# Adım 3 : concat metodunu kullanarak kontrol ve test grubu verilerini birleştiriniz. \n",
    "# Birleştirme işleminden önce her iki veri setine hangi gruba ait olduklarını belirten birer değişken ekleriz\n",
    "\n",
    "df_control[\"group\"] = \"control\"\n",
    "df_test[\"group\"] = \"test\"\n",
    "\n",
    "df = pd.concat([df_test, df_control], axis=0, ignore_index=False)\n"
   ]
  },
  {
   "cell_type": "code",
   "execution_count": 24,
   "metadata": {},
   "outputs": [
    {
     "name": "stdout",
     "output_type": "stream",
     "text": [
      "##################### Shape #####################\n",
      "(80, 5)\n",
      "##################### Types #####################\n",
      "Impression    float64\n",
      "Click         float64\n",
      "Purchase      float64\n",
      "Earning       float64\n",
      "group          object\n",
      "dtype: object\n",
      "##################### Head #####################\n",
      "      Impression        Click    Purchase      Earning group\n",
      "0  120103.503796  3216.547958  702.160346  1939.611243  test\n",
      "1  134775.943363  3635.082422  834.054286  2929.405820  test\n",
      "2  107806.620788  3057.143560  422.934258  2526.244877  test\n",
      "3  116445.275526  4650.473911  429.033535  2281.428574  test\n",
      "4  145082.516838  5201.387724  749.860442  2781.697521  test\n",
      "##################### Tail #####################\n",
      "       Impression        Click    Purchase      Earning    group\n",
      "35  132064.219003  3747.157544  551.072406  2256.975589  control\n",
      "36   86409.941796  4608.256205  345.046033  1781.357690  control\n",
      "37  123678.934234  3649.073787  476.168128  2187.721217  control\n",
      "38  101997.494099  4736.353369  474.613537  2254.563834  control\n",
      "39  121085.881220  4285.178608  590.406020  1289.308948  control\n",
      "##################### NA #####################\n",
      "Impression    0\n",
      "Click         0\n",
      "Purchase      0\n",
      "Earning       0\n",
      "group         0\n",
      "dtype: int64\n",
      "##################### Quantiles #####################\n",
      "            count           mean           std           min            0%  \\\n",
      "Impression   80.0  111111.930413  21623.807747  45475.942965  45475.942965   \n",
      "Click        80.0    4534.103567   1272.376073   1836.629861   1836.629861   \n",
      "Purchase     80.0     566.500078    148.141840    267.028943    267.028943   \n",
      "Earning      80.0    2211.729516    421.700575   1253.989525   1253.989525   \n",
      "\n",
      "                      5%            50%            95%            99%  \\\n",
      "Impression  79485.081821  114037.035002  145205.357813  157875.359504   \n",
      "Click        2730.479911    4321.602826    7002.173604    7559.405412   \n",
      "Purchase      344.262583     532.125084     823.172642     862.899841   \n",
      "Earning      1570.463309    2205.536256    2812.556828    3010.352367   \n",
      "\n",
      "                     100%            max  \n",
      "Impression  158605.920483  158605.920483  \n",
      "Click         7959.125069    7959.125069  \n",
      "Purchase       889.910460     889.910460  \n",
      "Earning       3171.489708    3171.489708  \n"
     ]
    }
   ],
   "source": [
    "check_df(df)"
   ]
  },
  {
   "cell_type": "markdown",
   "metadata": {},
   "source": [
    "A/B TEST\n",
    "\n",
    "1. Hipotezi Tanımla\n",
    "2. Varsayımları Kontrol Et( Normallik, varyans Homojenliği)\n",
    "3. Hipotezi Uygula\n",
    "4. p değerini yorumla\n",
    "\n",
    "Not: Hangi testi uygulayacağımıza karar vermek için ..... görseline bakarbilirsiniz."
   ]
  },
  {
   "cell_type": "code",
   "execution_count": 25,
   "metadata": {},
   "outputs": [
    {
     "data": {
      "text/html": [
       "<div>\n",
       "<style scoped>\n",
       "    .dataframe tbody tr th:only-of-type {\n",
       "        vertical-align: middle;\n",
       "    }\n",
       "\n",
       "    .dataframe tbody tr th {\n",
       "        vertical-align: top;\n",
       "    }\n",
       "\n",
       "    .dataframe thead th {\n",
       "        text-align: right;\n",
       "    }\n",
       "</style>\n",
       "<table border=\"1\" class=\"dataframe\">\n",
       "  <thead>\n",
       "    <tr style=\"text-align: right;\">\n",
       "      <th></th>\n",
       "      <th>Purchase</th>\n",
       "    </tr>\n",
       "    <tr>\n",
       "      <th>group</th>\n",
       "      <th></th>\n",
       "    </tr>\n",
       "  </thead>\n",
       "  <tbody>\n",
       "    <tr>\n",
       "      <th>control</th>\n",
       "      <td>550.894059</td>\n",
       "    </tr>\n",
       "    <tr>\n",
       "      <th>test</th>\n",
       "      <td>582.106097</td>\n",
       "    </tr>\n",
       "  </tbody>\n",
       "</table>\n",
       "</div>"
      ],
      "text/plain": [
       "           Purchase\n",
       "group              \n",
       "control  550.894059\n",
       "test     582.106097"
      ]
     },
     "execution_count": 25,
     "metadata": {},
     "output_type": "execute_result"
    }
   ],
   "source": [
    "# Adım 1 : Hipotezi tanımla\n",
    "\n",
    "# HO : M1 = M2 (Kontrol grubu ve test grubu satın alma değerleri arasında istatistiksel olarak bir fark yoktur)\n",
    "# H1 : M1 ! = M2 (Kontrol grubu ve test grubu satın alma değerleri arasında istatistiksel olarak bir fark vardır)\n",
    "\n",
    "df.groupby(\"group\").agg({\"Purchase\" : \"mean\"})"
   ]
  },
  {
   "cell_type": "markdown",
   "metadata": {},
   "source": [
    "Ortalama satın alma değerlerine baktığımızda yeni teklif verme türü olan averagebidding sürümünde yani test grubunda ortalama satın almanın daha fazla olduğunu söyleyebilir miyiz? Hayır söyleyemeyiz. Çünkü bu fark şans eseri oluşmuş olabilir."
   ]
  },
  {
   "cell_type": "code",
   "execution_count": 45,
   "metadata": {},
   "outputs": [
    {
     "name": "stdout",
     "output_type": "stream",
     "text": [
      "test p-value = 0.1541\n",
      "H0 reddedilemez, örneklem normal değılmaktadır\n",
      "control p-value = 0.5891\n",
      "H0 reddedilemez, örneklem normal değılmaktadır\n"
     ]
    }
   ],
   "source": [
    "# Adım 2 : Varsayımları kontrollerini yapınız.\n",
    "\n",
    "# Normallik Varsayımı\n",
    "\n",
    "# H0 : Normallik varsayımı sağlanmaktadır.\n",
    "# H1 : Normallik varsayımı sağlanmamaktadır.\n",
    "\n",
    "for group in list(df[\"group\"].unique()) :\n",
    "    pvalue = shapiro(df.loc[df[\"group\"] == group, \"Purchase\"])[1]  # shapironun 1. indexteki değeri (pvalue)\n",
    "    \n",
    "    print(group, \"p-value = %.4f\" % pvalue)\n",
    "\n",
    "    if pvalue < 0.05:\n",
    "        print(\"H0 reddedilir, örneklem normal dağılmamaktadır\")\n",
    "    else: \n",
    "        print(\"H0 reddedilemez, örneklem normal değılmaktadır\")\n"
   ]
  },
  {
   "cell_type": "code",
   "execution_count": 52,
   "metadata": {},
   "outputs": [],
   "source": [
    "# Bonus: Normal dağılımı göstermek için histogram kullanırız.\n",
    "# Histogram nümerik değişkenlerin dağılımını gösterir.\n",
    "# Tanımlanan grafik değişkenin histogram ve yoğunluğunu gösterir.\n",
    "# Sadece histogramı görmek istersek \"kde=False\" yapmalıyız\n",
    "\n",
    "def create_displot(df, col):\n",
    "    sns.displot(data=df, x=col, kde=True)\n",
    "    plt.show()"
   ]
  },
  {
   "cell_type": "code",
   "execution_count": 53,
   "metadata": {},
   "outputs": [
    {
     "name": "stderr",
     "output_type": "stream",
     "text": [
      "c:\\Users\\TOSHIBA\\AppData\\Local\\Programs\\Python\\Python311\\Lib\\site-packages\\seaborn\\axisgrid.py:118: UserWarning: The figure layout has changed to tight\n",
      "  self._figure.tight_layout(*args, **kwargs)\n"
     ]
    },
    {
     "data": {
      "image/png": "[encoded data removed]",
      "text/plain": [
       "<Figure size 500x500 with 1 Axes>"
      ]
     },
     "metadata": {},
     "output_type": "display_data"
    }
   ],
   "source": [
    "create_displot(df_test, \"Purchase\")"
   ]
  },
  {
   "cell_type": "code",
   "execution_count": 54,
   "metadata": {},
   "outputs": [
    {
     "name": "stderr",
     "output_type": "stream",
     "text": [
      "c:\\Users\\TOSHIBA\\AppData\\Local\\Programs\\Python\\Python311\\Lib\\site-packages\\seaborn\\axisgrid.py:118: UserWarning: The figure layout has changed to tight\n",
      "  self._figure.tight_layout(*args, **kwargs)\n"
     ]
    },
    {
     "data": {
      "image/png": "[encoded data removed]",
      "text/plain": [
       "<Figure size 500x500 with 1 Axes>"
      ]
     },
     "metadata": {},
     "output_type": "display_data"
    }
   ],
   "source": [
    "create_displot(df_control, \"Purchase\")"
   ]
  },
  {
   "cell_type": "code",
   "execution_count": 35,
   "metadata": {},
   "outputs": [
    {
     "name": "stdout",
     "output_type": "stream",
     "text": [
      "Test Stat = 2.6393, p-value = 0.1083\n",
      "H0 reddedilemez, varyanslar homojendir\n"
     ]
    }
   ],
   "source": [
    "# Varyans Homojenliği\n",
    "\n",
    "# H0 : Varyanslar homojendir.\n",
    "# H1 : Varyanslar homojen değildir.\n",
    "\n",
    "test_stat, pvalue = levene(df.loc[df[\"group\"] == \"test\", \"Purchase\"],\\\n",
    "                           df.loc[df[\"group\"] == \"control\", \"Purchase\"])\n",
    "print('Test Stat = %.4f, p-value = %.4f' % (test_stat, pvalue))\n",
    "\n",
    "if pvalue < 0.05:\n",
    "    print(\"H0 reddedilir, varyanslar homojen değildir\")\n",
    "else: \n",
    "    print(\"H0 reddedilemez, varyanslar homojendir\")"
   ]
  },
  {
   "cell_type": "markdown",
   "metadata": {},
   "source": [
    "Normallik ve varyans homojenliği varsayımları sağlandığından parametrik bir test kullanmalıyız.(t-testi)"
   ]
  },
  {
   "cell_type": "code",
   "execution_count": 36,
   "metadata": {},
   "outputs": [
    {
     "name": "stdout",
     "output_type": "stream",
     "text": [
      "Test Stat = 0.9416, p-value = 0.3493\n"
     ]
    }
   ],
   "source": [
    "# Adım 3 : Hipotezi uygula\n",
    "\n",
    "# HO : M1 = M2 \n",
    "# H1 : M1 ! = M2 \n",
    "\n",
    "test_stat, pvalue = ttest_ind(df.loc[df[\"group\"] == \"test\", \"Purchase\"],\\\n",
    "                           df.loc[df[\"group\"] == \"control\", \"Purchase\"])\n",
    "print('Test Stat = %.4f, p-value = %.4f' % (test_stat, pvalue))\n"
   ]
  },
  {
   "cell_type": "code",
   "execution_count": 39,
   "metadata": {},
   "outputs": [
    {
     "name": "stdout",
     "output_type": "stream",
     "text": [
      "H0 reddedilemez, kontrol grubu ve test grubu satın alma değerleri arasında istatistiksel olarak bir fark yoktur\n"
     ]
    }
   ],
   "source": [
    "# Adım 4 : p değerini yorumla\n",
    "\n",
    "if pvalue < 0.05:\n",
    "    print(\"H0 reddedilir, kontrol grubu ve test grubu satın alma değerleri arasında istatistiksel olarak fark vardır\")\n",
    "else: \n",
    "    print(\"H0 reddedilemez, kontrol grubu ve test grubu satın alma değerleri arasında istatistiksel olarak bir fark yoktur\")"
   ]
  },
  {
   "cell_type": "markdown",
   "metadata": {},
   "source": [
    "Yapılan A/B Test analizi sonucu \"averagebidding\" ve \"maximumbidding\" teklif verme türleri arasındaki ortalama satın alma miktarı arasında anlamlı bir fark yoktur. "
   ]
  }
 ],
 "metadata": {
  "kernelspec": {
   "display_name": "Python 3",
   "language": "python",
   "name": "python3"
  },
  "language_info": {
   "codemirror_mode": {
    "name": "ipython",
    "version": 3
   },
   "file_extension": ".py",
   "mimetype": "text/x-python",
   "name": "python",
   "nbconvert_exporter": "python",
   "pygments_lexer": "ipython3",
   "version": "3.11.4"
  }
 },
 "nbformat": 4,
 "nbformat_minor": 2
}
